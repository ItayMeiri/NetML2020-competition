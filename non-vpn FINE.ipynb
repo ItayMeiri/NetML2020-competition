{
 "cells": [
  {
   "cell_type": "markdown",
   "metadata": {},
   "source": [
    "## Random Forest Baseline Quickstart for NetML-Competition 2020\n",
    "\n",
    "### * Loads datasets, plots confusion matrix, prints evaluation metrics on validation set and create submission JSON files"
   ]
  },
  {
   "cell_type": "code",
   "execution_count": 1,
   "metadata": {},
   "outputs": [],
   "source": [
    "import os\n",
    "import json\n",
    "import argparse\n",
    "import time as t\n",
    "import numpy as np\n",
    "import pandas as pd\n",
    "import matplotlib.pyplot as plt\n",
    "\n",
    "from sklearn import preprocessing\n",
    "from sklearn.ensemble import RandomForestClassifier, ExtraTreesClassifier\n",
    "from sklearn.model_selection import train_test_split\n",
    "from sklearn.tree import DecisionTreeClassifier\n",
    "from sklearn.metrics import confusion_matrix\n",
    "from sklearn.ensemble import StackingClassifier\n",
    "\n",
    "from utils.helper import *"
   ]
  },
  {
   "cell_type": "code",
   "execution_count": 2,
   "metadata": {},
   "outputs": [],
   "source": [
    "# Define function to create submissions\n",
    "def do_submit(clf, test_set, scaler, class_label_pair, filepath):\n",
    "    Xtest, ids = get_submission_data(test_set)\n",
    "    X_test_scaled = scaler.transform(Xtest)\n",
    "    print(\"Predicting on {} ...\".format(test_set.split('/')[-1]))\n",
    "    predictions = clf.predict(X_test_scaled)\n",
    "    make_submission(predictions, ids, class_label_pair, filepath)   "
   ]
  },
  {
   "cell_type": "code",
   "execution_count": 3,
   "metadata": {},
   "outputs": [],
   "source": [
    "# Modify only this cell:\n",
    "# Note: anno = \"mid\" is valid ONLY with non-vpn2016 dataset\n",
    "###\n",
    "dataset = \"./data/non-vpn2016\" # or \"./data/CICIDS2017\" or \"./data/non-vpn2016\"\n",
    "anno = \"fine\" # or \"mid\" or \"fine\"\n",
    "submit = \"both\" # or \"test-std\" or \"test-challenge\"\n",
    "###"
   ]
  },
  {
   "cell_type": "code",
   "execution_count": 4,
   "metadata": {},
   "outputs": [],
   "source": [
    "# Assign variables\n",
    "training_set = dataset+\"/2_training_set\"\n",
    "training_anno_file = dataset+\"/2_training_annotations/2_training_anno_\"+anno+\".json.gz\"\n",
    "test_set = dataset+\"/1_test-std_set\"\n",
    "challenge_set = dataset+\"/0_test-challenge_set\""
   ]
  },
  {
   "cell_type": "code",
   "execution_count": 5,
   "metadata": {},
   "outputs": [],
   "source": [
    "# Create folder for the results\n",
    "time_ = t.strftime(\"%Y%m%d-%H%M%S\")\n",
    "\n",
    "save_dir = os.getcwd() + '/results/' + time_\n",
    "os.makedirs(save_dir)"
   ]
  },
  {
   "cell_type": "code",
   "execution_count": 6,
   "metadata": {},
   "outputs": [
    {
     "name": "stdout",
     "output_type": "stream",
     "text": [
      "\n",
      "Loading training set ...\n",
      "Reading 2_training_set.json.gz\n"
     ]
    }
   ],
   "source": [
    "# Get training data in np.array format\n",
    "Xtrain, ytrain, class_label_pair, Xtrain_ids = get_training_data(training_set, training_anno_file)\n",
    "\n",
    "# Split validation set from training data\n",
    "X_train, X_val, y_train, y_val = train_test_split(Xtrain, ytrain,\n",
    "                                                test_size=0.2, \n",
    "                                                random_state=42,\n",
    "                                                stratify=ytrain)"
   ]
  },
  {
   "cell_type": "code",
   "execution_count": 7,
   "metadata": {},
   "outputs": [],
   "source": [
    "# Get name of each class to display in confusion matrix\n",
    "class_names = list(sorted(class_label_pair.keys()))\n",
    "\n",
    "# Preprocess the data\n",
    "scaler = preprocessing.StandardScaler()\n",
    "X_train_scaled = scaler.fit_transform(X_train)\n",
    "X_val_scaled = scaler.transform(X_val)"
   ]
  },
  {
   "cell_type": "code",
   "execution_count": 12,
   "metadata": {},
   "outputs": [
    {
     "name": "stdout",
     "output_type": "stream",
     "text": [
      "Training the model ...\n"
     ]
    },
    {
     "data": {
      "text/plain": [
       "StackingClassifier(estimators=[('rfc',\n",
       "                                RandomForestClassifier(n_estimators=150,\n",
       "                                                       n_jobs=-1,\n",
       "                                                       random_state=42)),\n",
       "                               ('dtc',\n",
       "                                DecisionTreeClassifier(random_state=42))],\n",
       "                   final_estimator=ExtraTreesClassifier(n_estimators=150,\n",
       "                                                        n_jobs=-1,\n",
       "                                                        random_state=42),\n",
       "                   n_jobs=-1)"
      ]
     },
     "execution_count": 12,
     "metadata": {},
     "output_type": "execute_result"
    }
   ],
   "source": [
    "# Train RF Model\n",
    "print(\"Training the model ...\")\n",
    "\n",
    "DT = DecisionTreeClassifier(random_state = 42)\n",
    "ET = ExtraTreesClassifier(n_estimators=150, random_state=42, n_jobs = -1)\n",
    "RF = RandomForestClassifier(n_estimators=150, random_state=42, n_jobs = -1, max_features=\"auto\")\n",
    "\n",
    "eclf = StackingClassifier(estimators=[('rfc',RF), ('dtc', DT)],final_estimator=ET, n_jobs=-1)\n",
    "eclf.fit(X_train_scaled, y_train)"
   ]
  },
  {
   "cell_type": "code",
   "execution_count": 13,
   "metadata": {},
   "outputs": [
    {
     "name": "stdout",
     "output_type": "stream",
     "text": [
      "eclf\n",
      "Training Score: \t0.39987\n",
      "Validation Score: \t0.39263\n"
     ]
    }
   ],
   "source": [
    "# Output accuracy of classifier\n",
    "print(\"eclf\")\n",
    "print(\"Training Score: \\t{:.5f}\".format(eclf.score(X_train_scaled, y_train)))\n",
    "print(\"Validation Score: \\t{:.5f}\".format(eclf.score(X_val_scaled, y_val)))"
   ]
  },
  {
   "cell_type": "code",
   "execution_count": 14,
   "metadata": {},
   "outputs": [
    {
     "name": "stdout",
     "output_type": "stream",
     "text": [
      "F1: \t\t\t0.37574\n",
      "mAP: \t\t\t0.25932\n",
      "Confusion matrix is saved as ./results/20210428-181547/CM.png\n",
      "\n"
     ]
    },
    {
     "data": {
      "text/plain": [
       "(<AxesSubplot:title={'center':'Confusion matrix, without normalization\\nF1:0.37574 - mAP:0.25932'}, xlabel='Predicted label', ylabel='True label'>,\n",
       " array([[   0,    1,   24,    2,    0,    0,    0,    1,   21,    1,    1,\n",
       "            2,    0,    0,    0,    0,    0,    0,    0,   10,    0,    0,\n",
       "            0,    0,    0,    0,    0,    0,    0,    4,    0],\n",
       "        [   0,  538,  131,    0,    0,    0,    0,    1,  100,    0,    0,\n",
       "            0,    0,    0,    0,    0,    0,    9,   12,   39,    0,    0,\n",
       "            0,    0,    0,    0,    0,    0,    0,    2,    0],\n",
       "        [   0,   53, 3528,    1,    8,    0,    0,    0, 2258,    0,    3,\n",
       "            0,    0,    0,    0,    0,    0,  200,   58,  840,    0,    1,\n",
       "            0,    0,    0,    0,    0,    0,    1,    1,    5],\n",
       "        [   0,    2,   18,   22,    1,    0,    0,    2,   24,    1,    0,\n",
       "            0,    0,    0,    0,    0,    0,    3,    2,    6,    0,    0,\n",
       "            0,    0,    0,    0,    0,    0,    0,    1,    0],\n",
       "        [   0,    1,   28,    0,   28,    0,    0,    0,    2,    0,    1,\n",
       "            0,    1,    0,    0,    0,    0,    1,    0,    1,    0,    0,\n",
       "            0,    0,    0,    0,    0,    0,    1,    0,    3],\n",
       "        [   0,    1,    3,    0,    0,   35,    0,    0,    2,    0,    0,\n",
       "            0,    0,    0,    0,    0,    0,    1,    1,    2,    0,    0,\n",
       "            0,    0,    0,    0,    0,   10,    0,   47,    0],\n",
       "        [   0,    0,    0,    0,    0,    1,   18,    0,    0,    0,    0,\n",
       "            0,    0,    0,    0,    0,    0,    0,    0,    2,    0,    0,\n",
       "            0,    0,    0,    0,    0,    2,    0,    8,    0],\n",
       "        [   1,    1,    3,    1,    0,    0,    0,   44,    8,    1,    0,\n",
       "            3,    0,    0,    0,    0,    0,    2,    2,    4,    1,    0,\n",
       "            0,    0,    0,    0,    0,    0,    0,    2,    0],\n",
       "        [   0,   76, 2585,    0,    1,    3,    0,    3, 3604,    0,   31,\n",
       "            0,    0,    0,    0,    0,    0,  177,   47,  750,    0,    0,\n",
       "            0,    0,    0,    0,    0,    1,    0,    1,    4],\n",
       "        [   0,    0,   16,    0,    0,    0,    0,    1,   36,    6,    0,\n",
       "            0,    0,    0,    0,    1,    0,    1,    0,    7,    0,    0,\n",
       "            0,    0,    0,    0,    0,    0,    0,    2,    0],\n",
       "        [   1,    0,    5,    0,    2,    0,    0,    0,  189,    0,   31,\n",
       "            0,    1,    0,    0,    0,    0,    4,    1,    0,    2,    0,\n",
       "            0,    0,    0,    0,    0,    0,    2,    1,    4],\n",
       "        [   2,    1,   25,    0,    0,    0,    0,    0,   17,    1,    1,\n",
       "            5,    0,    0,    0,    0,    0,    0,    2,   11,    0,    2,\n",
       "            0,    0,    0,    0,    0,    0,    0,    3,    0],\n",
       "        [   0,    0,    0,    0,    0,    0,    0,    0,    3,    0,    0,\n",
       "            0,   41,    0,    0,    0,    0,    0,    0,    1,    0,    4,\n",
       "            0,    0,    0,    0,    0,    0,    5,    0,    1],\n",
       "        [   0,    1,    0,    0,    0,    0,    0,    0,    0,    0,    0,\n",
       "            0,    0,    9,    4,    1,    0,    0,    0,    0,    0,    0,\n",
       "            0,    0,    0,    0,    0,    0,    0,    0,    0],\n",
       "        [   0,    0,    0,    0,    0,    0,    0,    0,    0,    0,    0,\n",
       "            0,    0,   12,    3,    0,    0,    0,    0,    0,    0,    0,\n",
       "            0,    0,    0,    0,    0,    0,    0,    0,    0],\n",
       "        [   0,    0,    1,    0,    0,    0,    0,    0,    1,    0,    0,\n",
       "            0,    0,    0,    0,   10,    5,    0,    0,    0,    0,    0,\n",
       "            0,    0,    0,    0,    0,    0,    0,    0,    0],\n",
       "        [   0,    0,    3,    0,    0,    0,    0,    0,    1,    0,    0,\n",
       "            0,    0,    0,    0,    4,    4,    1,    0,    0,    0,    0,\n",
       "            0,    0,    0,    0,    0,    0,    0,    0,    0],\n",
       "        [   0,   40, 1334,    1,    0,    2,    0,    1, 1126,    0,    3,\n",
       "            0,    0,    0,    0,    0,    0,  455,   39,  370,   12,    1,\n",
       "            0,    0,    0,    0,    0,    0,    1,    0,    2],\n",
       "        [   0,   14,  170,    0,    1,    0,    0,    0,  172,    0,    0,\n",
       "            0,    0,    0,    0,    0,    0,   24,  454,   61,    0,    0,\n",
       "            0,    0,    0,    0,    0,    0,    0,    0,    0],\n",
       "        [   1,   48, 1953,    0,    0,    1,    0,    1, 1745,    0,    1,\n",
       "            0,    0,    0,    0,    0,    1,  178,   57,  975,    2,    0,\n",
       "            0,    0,    0,    0,    1,    0,    1,    2,    0],\n",
       "        [   0,    0,    0,    0,    0,    0,    0,    1,    6,    0,    0,\n",
       "            0,    0,    0,    0,    0,    0,   13,    1,    7,   62,    1,\n",
       "            0,    0,    0,    0,    0,    0,    1,    0,    0],\n",
       "        [   0,    0,    1,    0,    0,    0,    0,    0,    5,    0,    0,\n",
       "            0,    3,    0,    0,    0,    0,    1,    0,    2,    0,   19,\n",
       "            0,    0,    0,    0,    1,    0,    3,    0,    1],\n",
       "        [   0,    0,    0,    0,    0,    0,    0,    0,    1,    0,    0,\n",
       "            0,    0,    0,    0,    0,    0,    0,    0,    0,    0,    0,\n",
       "            0,    0,    0,    0,    0,    0,    0,    0,    0],\n",
       "        [   0,    0,    0,    0,    0,    0,    0,    0,    0,    0,    0,\n",
       "            0,    1,    0,    0,    0,    0,    0,    0,    0,    0,    0,\n",
       "            0,    0,    0,    0,    0,    0,    0,    0,    0],\n",
       "        [   0,    0,    0,    0,    0,    0,    0,    0,    0,    0,    0,\n",
       "            0,    0,    0,    0,    0,    0,    0,    0,    0,    0,    0,\n",
       "            0,    0,    0,    0,    1,    0,    0,    0,    0],\n",
       "        [   0,    0,    0,    0,    0,    0,    0,    0,    0,    0,    0,\n",
       "            0,    1,    0,    0,    1,    0,    0,    0,    0,    0,    0,\n",
       "            0,    0,    0,    1,    0,    0,    0,    0,    0],\n",
       "        [   0,    0,    1,    0,    0,    0,    0,    0,    1,    0,    0,\n",
       "            0,    0,    0,    0,    0,    0,    0,    0,    0,    0,    2,\n",
       "            0,    0,    0,    0,    9,    0,    0,    0,    6],\n",
       "        [   0,    0,    2,    0,    0,   13,    0,    0,    1,    0,    0,\n",
       "            0,    0,    0,    0,    0,    0,    0,    0,    2,    0,    0,\n",
       "            0,    0,    0,    0,    0,  123,    0,   25,    0],\n",
       "        [   0,    0,    0,    0,    0,    0,    0,    0,    1,    0,    0,\n",
       "            0,    2,    0,    1,    0,    0,    1,    0,    4,    0,    4,\n",
       "            0,    0,    0,    0,    1,    0,   55,    0,    1],\n",
       "        [   2,    7,  105,    0,    0,   24,    0,    0,  122,    1,    1,\n",
       "            0,    0,    0,    0,    1,    0,    6,    8,   26,    0,    1,\n",
       "            0,    0,    0,    0,    0,   22,    0,  144,    0],\n",
       "        [   0,    0,    7,    0,    2,    0,    0,    0,   11,    0,    3,\n",
       "            0,    5,    0,    1,    0,    0,    1,    0,    1,    0,    1,\n",
       "            0,    0,    0,    1,    5,    0,    4,    1,   69]],\n",
       "       dtype=int64))"
      ]
     },
     "execution_count": 14,
     "metadata": {},
     "output_type": "execute_result"
    },
    {
     "data": {
      "image/png": "[encoded data removed]",
      "text/plain": [
       "<Figure size 432x288 with 1 Axes>"
      ]
     },
     "metadata": {
      "needs_background": "light"
     },
     "output_type": "display_data"
    }
   ],
   "source": [
    "# Print Confusion Matrix\n",
    "ypred = eclf.predict(X_val_scaled)\n",
    "\n",
    "np.set_printoptions(precision=2)\n",
    "\n",
    "# Plot normalized confusion matrix\n",
    "plot_confusion_matrix(directory=save_dir, y_true=y_val, y_pred=ypred, \n",
    "                        classes=class_names, \n",
    "                        normalize=False)"
   ]
  },
  {
   "cell_type": "code",
   "execution_count": 15,
   "metadata": {},
   "outputs": [
    {
     "name": "stdout",
     "output_type": "stream",
     "text": [
      "Loading submission set ...\n",
      "Reading 1_test-std_set.json.gz\n",
      "Predicting on 1_test-std_set ...\n",
      "Submission file is created as ./results/20210428-181547/submission_test-std.json\n",
      "\n",
      "Loading submission set ...\n",
      "Reading 0_test-challenge_set.json.gz\n",
      "Predicting on 0_test-challenge_set ...\n",
      "Submission file is created as ./results/20210428-181547/submission_test-challenge.json\n",
      "\n"
     ]
    }
   ],
   "source": [
    "# Make submission with JSON format\n",
    "if submit == \"test-std\" or submit == \"both\":\n",
    "    do_submit(eclf, test_set, scaler, class_label_pair, save_dir+\"/submission_test-std.json\")\n",
    "if submit == \"test-challenge\" or submit == \"both\":\n",
    "    do_submit(eclf, challenge_set, scaler, class_label_pair, save_dir+\"/submission_test-challenge.json\")\n"
   ]
  },
  {
   "cell_type": "code",
   "execution_count": null,
   "metadata": {},
   "outputs": [],
   "source": []
  }
 ],
 "metadata": {
  "kernelspec": {
   "display_name": "Python 3",
   "language": "python",
   "name": "python3"
  },
  "language_info": {
   "codemirror_mode": {
    "name": "ipython",
    "version": 3
   },
   "file_extension": ".py",
   "mimetype": "text/x-python",
   "name": "python",
   "nbconvert_exporter": "python",
   "pygments_lexer": "ipython3",
   "version": "3.8.5"
  }
 },
 "nbformat": 4,
 "nbformat_minor": 2
}
