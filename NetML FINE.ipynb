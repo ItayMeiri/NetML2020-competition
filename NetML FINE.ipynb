{
 "cells": [
  {
   "cell_type": "markdown",
   "metadata": {},
   "source": [
    "## Random Forest Baseline Quickstart for NetML-Competition 2020\n",
    "\n",
    "### * Loads datasets, plots confusion matrix, prints evaluation metrics on validation set and create submission JSON files"
   ]
  },
  {
   "cell_type": "code",
   "execution_count": 1,
   "metadata": {},
   "outputs": [],
   "source": [
    "import os\n",
    "import json\n",
    "import argparse\n",
    "import time as t\n",
    "import numpy as np\n",
    "import pandas as pd\n",
    "import matplotlib.pyplot as plt\n",
    "\n",
    "from sklearn import preprocessing\n",
    "from sklearn.ensemble import RandomForestClassifier, ExtraTreesClassifier, VotingClassifier\n",
    "from sklearn.model_selection import train_test_split\n",
    "from sklearn.tree import DecisionTreeClassifier\n",
    "from sklearn.metrics import confusion_matrix\n",
    "from sklearn.neural_network import MLPClassifier\n",
    "from sklearn.ensemble import StackingClassifier\n",
    "\n",
    "from utils.helper import *"
   ]
  },
  {
   "cell_type": "code",
   "execution_count": 2,
   "metadata": {},
   "outputs": [],
   "source": [
    "# Define function to create submissions\n",
    "def do_submit(clf, test_set, scaler, class_label_pair, filepath):\n",
    "    Xtest, ids = get_submission_data(test_set)\n",
    "    X_test_scaled = scaler.transform(Xtest)\n",
    "    print(\"Predicting on {} ...\".format(test_set.split('/')[-1]))\n",
    "    predictions = clf.predict(X_test_scaled)\n",
    "    make_submission(predictions, ids, class_label_pair, filepath)   "
   ]
  },
  {
   "cell_type": "code",
   "execution_count": 3,
   "metadata": {},
   "outputs": [],
   "source": [
    "# Modify only this cell:\n",
    "# Note: anno = \"mid\" is valid ONLY with non-vpn2016 dataset\n",
    "###\n",
    "dataset = \"./data/NetML\" # or \"./data/CICIDS2017\" or \"./data/non-vpn2016\"\n",
    "anno = \"fine\" # or \"mid\" or \"fine\"\n",
    "submit = \"both\" # or \"test-std\" or \"test-challenge\"\n",
    "###"
   ]
  },
  {
   "cell_type": "code",
   "execution_count": 4,
   "metadata": {},
   "outputs": [],
   "source": [
    "# Assign variables\n",
    "training_set = dataset+\"/2_training_set\"\n",
    "training_anno_file = dataset+\"/2_training_annotations/2_training_anno_\"+anno+\".json.gz\"\n",
    "test_set = dataset+\"/1_test-std_set\"\n",
    "challenge_set = dataset+\"/0_test-challenge_set\""
   ]
  },
  {
   "cell_type": "code",
   "execution_count": 5,
   "metadata": {},
   "outputs": [],
   "source": [
    "# Create folder for the results\n",
    "time_ = t.strftime(\"%Y%m%d-%H%M%S\")\n",
    "\n",
    "save_dir = os.getcwd() + '/results/' + time_\n",
    "os.makedirs(save_dir)"
   ]
  },
  {
   "cell_type": "code",
   "execution_count": 6,
   "metadata": {},
   "outputs": [
    {
     "name": "stdout",
     "output_type": "stream",
     "text": [
      "\n",
      "Loading training set ...\n",
      "Reading 2_training_set.json.gz\n"
     ]
    }
   ],
   "source": [
    "# Get training data in np.array format\n",
    "Xtrain, ytrain, class_label_pair, Xtrain_ids = get_training_data(training_set, training_anno_file)\n",
    "\n",
    "# Split validation set from training data\n",
    "X_train, X_val, y_train, y_val = train_test_split(Xtrain, ytrain,\n",
    "                                                test_size=0.2, \n",
    "                                                random_state=42,\n",
    "                                                stratify=ytrain)"
   ]
  },
  {
   "cell_type": "code",
   "execution_count": 7,
   "metadata": {},
   "outputs": [],
   "source": [
    "# Get name of each class to display in confusion matrix\n",
    "class_names = list(sorted(class_label_pair.keys()))\n",
    "\n",
    "# Preprocess the data\n",
    "scaler = preprocessing.StandardScaler()\n",
    "X_train_scaled = scaler.fit_transform(X_train)\n",
    "X_val_scaled = scaler.transform(X_val)"
   ]
  },
  {
   "cell_type": "code",
   "execution_count": 10,
   "metadata": {},
   "outputs": [
    {
     "name": "stdout",
     "output_type": "stream",
     "text": [
      "Training the model ...\n",
      "votingclassifier\n",
      "Training Score: \t0.82779\n",
      "Validation Score: \t0.83806\n"
     ]
    }
   ],
   "source": [
    "# Train RF Model\n",
    "print(\"Training the model ...\")\n",
    "\n",
    "MLP = MLPClassifier(random_state=42, max_iter=300, early_stopping=True)\n",
    "DT = DecisionTreeClassifier(random_state = 42)\n",
    "RF = RandomForestClassifier(n_estimators=100, random_state=42, n_jobs = -1, max_features=\"auto\")\n",
    "\n",
    "eclf = StackingClassifier(estimators=[('rfc', RF), ('dtc', DT)],final_estimator=MLP ,n_jobs=-1, passthrough=True)\n",
    "\n",
    "eclf.fit(X_train_scaled, y_train)\n",
    "print(\"votingclassifier\")\n",
    "print(\"Training Score: \\t{:.5f}\".format(eclf.score(X_train_scaled, y_train)))\n",
    "print(\"Validation Score: \\t{:.5f}\".format(eclf.score(X_val_scaled, y_val)))"
   ]
  },
  {
   "cell_type": "code",
   "execution_count": 18,
   "metadata": {},
   "outputs": [
    {
     "name": "stdout",
     "output_type": "stream",
     "text": [
      "F1: \t\t\t0.79867\n",
      "mAP: \t\t\t0.48114\n",
      "Confusion matrix is saved as ./results/20210428-000814/CM.png\n",
      "\n"
     ]
    },
    {
     "data": {
      "text/plain": [
       "(<AxesSubplot:title={'center':'Confusion matrix, without normalization\\nF1:0.79867 - mAP:0.48114'}, xlabel='Predicted label', ylabel='True label'>,\n",
       " array([[ 2046,     0,    17,   111,    15,    15,    19,     0,     9,\n",
       "            48,    22,   134,     0,     0,     2,   326,   180,    24,\n",
       "             1,    89,     0],\n",
       "        [    0,   432,     0,     0,     0,     0,     0,     0,     0,\n",
       "             0,     0,     0,     0,     0,     0,     0,     0,     0,\n",
       "          1215,     0,     1],\n",
       "        [   42,     0,   212,     6,    25,    33,    40,     0,    34,\n",
       "             0,    62,   146,     0,     0,     0,    20,     3,    64,\n",
       "             0,   127,     1],\n",
       "        [   62,     0,     9,  1082,     0,     7,     0,     0,     0,\n",
       "           172,     7,    29,     0,     0,     2,    83,    98,    21,\n",
       "             0,    37,    19],\n",
       "        [   11,     0,    18,     0,    98,     2,    16,     0,    31,\n",
       "             1,    48,     2,     0,     0,     0,     0,     0,    39,\n",
       "             0,    10,     0],\n",
       "        [   58,     0,    50,    11,     0,   168,     0,     0,     0,\n",
       "             4,    45,   108,     0,     0,     0,    37,     8,    39,\n",
       "             0,   239,     3],\n",
       "        [   13,     0,    19,     0,    12,     2,  1654,     0,    48,\n",
       "             0,    51,     0,     1,     0,     0,     0,     1,    29,\n",
       "             0,    11,     1],\n",
       "        [    0,     0,     0,     0,     0,     0,     0,  9181,     0,\n",
       "             0,     0,     0,     0,     0,     0,     0,     0,     0,\n",
       "             0,     0,     1],\n",
       "        [    1,     0,    16,     1,    28,     0,    33,     0,  5923,\n",
       "             0,    42,     0,     0,     0,     0,     1,     1,    26,\n",
       "             0,     2,    14],\n",
       "        [   28,     0,     7,   148,     1,     7,     0,     0,     1,\n",
       "          5910,     8,    13,     0,     0,     0,    47,    41,    11,\n",
       "             0,    29,    41],\n",
       "        [   39,     0,    61,     6,    30,    42,    57,     0,    29,\n",
       "             1,   288,   134,     0,     0,     0,    21,     4,    87,\n",
       "             0,   145,     2],\n",
       "        [   73,     0,    63,    13,     0,    69,     0,     0,     0,\n",
       "             7,    45,   528,     0,     0,     0,    75,    14,    50,\n",
       "             0,   295,     0],\n",
       "        [    1,     0,     1,     0,     0,     0,     0,     0,     0,\n",
       "             1,     1,     1,    74,     0,     0,     0,     0,     0,\n",
       "             0,     1,     0],\n",
       "        [    5,     0,     0,     1,     0,     0,     0,     0,     0,\n",
       "             0,     1,     0,     0,     0,     0,     0,     0,     0,\n",
       "             0,     0,     0],\n",
       "        [    4,     0,     0,     0,     0,     0,     0,     0,     0,\n",
       "             0,     0,     0,     0,     0,  3714,     0,     3,     0,\n",
       "             0,     2,     2],\n",
       "        [  220,     0,     7,    77,     0,     7,     3,     0,     1,\n",
       "            34,    15,    63,     0,     0,     1,  3016,  3942,     9,\n",
       "             0,    57,     2],\n",
       "        [  178,     0,     7,    51,     0,     4,     0,     0,     1,\n",
       "            24,     5,    37,     0,     0,     0,  2399,  8809,     6,\n",
       "             1,    35,     2],\n",
       "        [   35,     0,    36,     8,    17,    38,    44,     0,    47,\n",
       "             0,    36,   138,     0,     0,     0,    19,     2,   270,\n",
       "             0,   114,     0],\n",
       "        [    0,   470,     0,     0,     0,     0,     0,     0,     0,\n",
       "             0,     0,     0,     0,     0,     0,     0,     0,     0,\n",
       "          1226,     0,     0],\n",
       "        [   52,     0,    57,    13,     0,    67,     1,     0,     9,\n",
       "            11,    77,   172,     1,     0,     0,    59,    14,    72,\n",
       "             0,  2541,     7],\n",
       "        [    7,     1,     1,    22,     0,     0,     3,     1,     7,\n",
       "            35,     0,     1,     0,     0,     2,     4,     3,     1,\n",
       "             0,     5, 15106]], dtype=int64))"
      ]
     },
     "execution_count": 18,
     "metadata": {},
     "output_type": "execute_result"
    },
    {
     "data": {
      "image/png": "[encoded data removed]",
      "text/plain": [
       "<Figure size 432x288 with 1 Axes>"
      ]
     },
     "metadata": {
      "needs_background": "light"
     },
     "output_type": "display_data"
    }
   ],
   "source": [
    "# Print Confusion Matrix\n",
    "ypred = eclf.predict(X_val_scaled)\n",
    "\n",
    "np.set_printoptions(precision=2)\n",
    "\n",
    "# Plot normalized confusion matrix\n",
    "plot_confusion_matrix(directory=save_dir, y_true=y_val, y_pred=ypred, \n",
    "                        classes=class_names, \n",
    "                        normalize=False)"
   ]
  },
  {
   "cell_type": "code",
   "execution_count": 11,
   "metadata": {},
   "outputs": [
    {
     "name": "stdout",
     "output_type": "stream",
     "text": [
      "Loading submission set ...\n",
      "Reading 1_test-std_set.json.gz\n",
      "Predicting on 1_test-std_set ...\n",
      "Submission file is created as ./results/20210428-063835/submission_test-std.json\n",
      "\n",
      "Loading submission set ...\n",
      "Reading 0_test-challenge_set.json.gz\n",
      "Predicting on 0_test-challenge_set ...\n",
      "Submission file is created as ./results/20210428-063835/submission_test-challenge.json\n",
      "\n"
     ]
    }
   ],
   "source": [
    "# Make submission with JSON format\n",
    "if submit == \"test-std\" or submit == \"both\":\n",
    "    do_submit(eclf, test_set, scaler, class_label_pair, save_dir+\"/submission_test-std.json\")\n",
    "if submit == \"test-challenge\" or submit == \"both\":\n",
    "    do_submit(eclf, challenge_set, scaler, class_label_pair, save_dir+\"/submission_test-challenge.json\")\n"
   ]
  },
  {
   "cell_type": "code",
   "execution_count": null,
   "metadata": {},
   "outputs": [],
   "source": []
  }
 ],
 "metadata": {
  "kernelspec": {
   "display_name": "Python 3",
   "language": "python",
   "name": "python3"
  },
  "language_info": {
   "codemirror_mode": {
    "name": "ipython",
    "version": 3
   },
   "file_extension": ".py",
   "mimetype": "text/x-python",
   "name": "python",
   "nbconvert_exporter": "python",
   "pygments_lexer": "ipython3",
   "version": "3.8.5"
  }
 },
 "nbformat": 4,
 "nbformat_minor": 2
}
